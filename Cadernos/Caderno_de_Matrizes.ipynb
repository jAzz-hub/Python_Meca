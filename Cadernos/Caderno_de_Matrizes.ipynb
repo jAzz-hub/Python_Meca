{
  "nbformat": 4,
  "nbformat_minor": 0,
  "metadata": {
    "colab": {
      "provenance": [],
      "collapsed_sections": [
        "y5vF3o-UiZ1q",
        "toXIayiHiSAQ"
      ]
    },
    "kernelspec": {
      "name": "python3",
      "display_name": "Python 3"
    },
    "language_info": {
      "name": "python"
    }
  },
  "cells": [
    {
      "cell_type": "code",
      "execution_count": null,
      "metadata": {
        "id": "tatlOVkzhu72"
      },
      "outputs": [],
      "source": [
        "import numpy as np"
      ]
    },
    {
      "cell_type": "markdown",
      "source": [
        "# Criando Matrizes Com Numpy\n",
        "- Execute a célula 1 para importar a biblioteca necessária\n",
        "- Garanta que você instalou a biblioteca no seu ambiente de desenvolviemnto para que a célula 1 funcione!\n",
        "- Caso esteja em um ambiente de desenvolvimento online que não seja um VPS(Vitual Private Server) desconfigurado, não precisa se preocupar com isso.\n",
        "  - Para conhecer ambiente de execução online acesse:\n",
        "    - https://jupyter.org/\n",
        "    - https://colab.research.google.com/"
      ],
      "metadata": {
        "id": "y5vF3o-UiZ1q"
      }
    },
    {
      "cell_type": "code",
      "source": [
        "#Criando matriz booleana de ordem 3 com todos os elementos da última coluna iguais à 1:\n",
        "A = np.array([\n",
        "  [0,0,1],\n",
        "  [0,0,1],\n",
        "  [0,0,1]\n",
        "  ])\n",
        "\n",
        "#Criando a mesma matriz utilizando conversão de quaisquer tipo de dados dentro dela para booleano:\n",
        "Ab = np.array([\n",
        "    [len([]), 0, 0.9],\n",
        "    [0, None, 'g'],\n",
        "    ['', False, np.NaN],],\n",
        "    dtype=bool\n",
        "    )\n",
        "\n",
        "#Criando uma matriz não booleana 3x2:\n",
        "B = np.array([[3, 7],\n",
        "              [0, 1],\n",
        "              [4, 4]])\n",
        "\n",
        "#Criando uma matriz 3x2 de strings:\n",
        "Bb = np.array([['a', 'b'],\n",
        "               ['4', '7'],\n",
        "               ['¬', '→']],\n",
        "              dtype = str\n",
        "              )"
      ],
      "metadata": {
        "id": "-Y9hh-OKietL"
      },
      "execution_count": null,
      "outputs": []
    },
    {
      "cell_type": "code",
      "source": [
        "#Observe que ao tentarmos criar uma matriz de matrizes obtem-se um erro:\n",
        "MatrizDeMatrizes = np.array(\n",
        "      [[A,Ab]\n",
        "     ,[B,Bb]],\n",
        "      )"
      ],
      "metadata": {
        "colab": {
          "base_uri": "https://localhost:8080/",
          "height": 299
        },
        "id": "-2WErHAwpxFH",
        "outputId": "42899c3d-18de-4e82-a85b-ea18b247643c"
      },
      "execution_count": null,
      "outputs": [
        {
          "output_type": "stream",
          "name": "stderr",
          "text": [
            "<ipython-input-32-d76d523349a5>:2: VisibleDeprecationWarning: Creating an ndarray from ragged nested sequences (which is a list-or-tuple of lists-or-tuples-or ndarrays with different lengths or shapes) is deprecated. If you meant to do this, you must specify 'dtype=object' when creating the ndarray.\n",
            "  MatrizDeMatrizes = np.array(\n"
          ]
        },
        {
          "output_type": "error",
          "ename": "ValueError",
          "evalue": "ignored",
          "traceback": [
            "\u001b[0;31m---------------------------------------------------------------------------\u001b[0m",
            "\u001b[0;31mValueError\u001b[0m                                Traceback (most recent call last)",
            "\u001b[0;32m<ipython-input-32-d76d523349a5>\u001b[0m in \u001b[0;36m<cell line: 2>\u001b[0;34m()\u001b[0m\n\u001b[1;32m      1\u001b[0m \u001b[0;31m#Observe que ao tentarmos criar uma matriz de matrizes obtem-se um erro:\u001b[0m\u001b[0;34m\u001b[0m\u001b[0;34m\u001b[0m\u001b[0m\n\u001b[0;32m----> 2\u001b[0;31m MatrizDeMatrizes = np.array(\n\u001b[0m\u001b[1;32m      3\u001b[0m       [[A,Ab]\n\u001b[1;32m      4\u001b[0m      ,[B,Bb]],\n\u001b[1;32m      5\u001b[0m       )\n",
            "\u001b[0;31mValueError\u001b[0m: could not broadcast input array from shape (3,3) into shape (3,)"
          ]
        }
      ]
    },
    {
      "cell_type": "code",
      "source": [
        "#Para iterar várias matrizes de orens diferentes crie uma lista de matrizes ou outra esturutra de dados auxiliar:\n",
        "ListaDeMatrizes = [A,Ab,B,Bb]\n",
        "\n",
        "for i in ListaDeMatrizes:\n",
        "  print('\\n')\n",
        "  for x in i:\n",
        "    print(x)\n",
        "\n",
        "#Outra alternativa é torná-las matrizes de mesma ordem caso isso não comprometa seus resultados e depois uní-las:\n",
        "MatrizDeMatrizes = np.array(\n",
        "    [\n",
        "        #Acessando apenas as 2 últimas colunas das matrizes A e Ab:\n",
        "        [A[:, 1:],Ab[:, 1:]],\n",
        "        [B, Bb]\n",
        "    ]\n",
        ")\n"
      ],
      "metadata": {
        "colab": {
          "base_uri": "https://localhost:8080/"
        },
        "id": "pQ23gfFiqNWB",
        "outputId": "72df65c5-5193-4a5f-83c6-9d9c4f4de081"
      },
      "execution_count": null,
      "outputs": [
        {
          "output_type": "stream",
          "name": "stdout",
          "text": [
            "\n",
            "\n",
            "[0 0 1]\n",
            "[0 0 1]\n",
            "[0 0 1]\n",
            "\n",
            "\n",
            "[False False  True]\n",
            "[False False  True]\n",
            "[False False  True]\n",
            "\n",
            "\n",
            "[3 7]\n",
            "[0 1]\n",
            "[4 4]\n",
            "\n",
            "\n",
            "['a' 'b']\n",
            "['4' '7']\n",
            "['¬' '→']\n"
          ]
        },
        {
          "output_type": "execute_result",
          "data": {
            "text/plain": [
              "array([[[['0', '1'],\n",
              "         ['0', '1'],\n",
              "         ['0', '1']],\n",
              "\n",
              "        [['False', 'True'],\n",
              "         ['False', 'True'],\n",
              "         ['False', 'True']]],\n",
              "\n",
              "\n",
              "       [[['3', '7'],\n",
              "         ['0', '1'],\n",
              "         ['4', '4']],\n",
              "\n",
              "        [['a', 'b'],\n",
              "         ['4', '7'],\n",
              "         ['¬', '→']]]], dtype='<U21')"
            ]
          },
          "metadata": {},
          "execution_count": 37
        }
      ]
    },
    {
      "cell_type": "markdown",
      "source": [
        "# Acessando Linhas, Colunas e Diagonal principal"
      ],
      "metadata": {
        "id": "toXIayiHiSAQ"
      }
    },
    {
      "cell_type": "code",
      "source": [
        "#Duas formas diferentes de se acessar o primeiro elemento da matriz:\n",
        "print(Ab[0][0])\n",
        "print(Ab.item(0))\n",
        "\n",
        "#Duas formas diferentes de se acessar o último elemento da matriz:\n",
        "print(Ab[2][2])\n",
        "print(Ab.item(5))\n",
        "\n",
        "#Passando os valores de dentro de uma matriz para uma lista\n",
        "array1D = []\n",
        "for linha in Ab:\n",
        "  for j in linha:\n",
        "    array1D.append(j)\n",
        "\n",
        "#Criando um vetor com os valores da diagonal principal de Ab:\n",
        "rows, columns = Ab.shape\n",
        "diagIndices = np.diag_indices(rows, columns)\n",
        "\n",
        "#Acessando diagonal principal:\n",
        "print('\\n\\n\\n')\n",
        "for i in diagIndices[0]:\n",
        "  print(Ab[i][i])"
      ],
      "metadata": {
        "colab": {
          "base_uri": "https://localhost:8080/"
        },
        "id": "7j3V-igWvakv",
        "outputId": "79ff41a2-3c9c-4278-b0bc-42656fc992fd"
      },
      "execution_count": null,
      "outputs": [
        {
          "output_type": "stream",
          "name": "stdout",
          "text": [
            "False\n",
            "False\n",
            "True\n",
            "True\n",
            "\n",
            "\n",
            "\n",
            "\n",
            "False\n",
            "False\n",
            "True\n"
          ]
        }
      ]
    }
  ]
}