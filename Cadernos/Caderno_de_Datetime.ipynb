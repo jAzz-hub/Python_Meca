{
 "cells": [
  {
   "cell_type": "code",
   "execution_count": null,
   "metadata": {},
   "outputs": [],
   "source": [
    "\n",
    "#Célula 1:\n",
    "from datetime import date"
   ]
  },
  {
   "cell_type": "markdown",
   "metadata": {},
   "source": [
    "# Criando datas Com Datetime\n",
    "- Execute a célula 1 para importar a biblioteca necessária.\n",
    "- Datetime é uma função nativa do Python. Qualquer versão da linguagem superior à 2.7 tem essa biblioteca. Portanto provavelmente instalá-la não será uma preocupação.\n",
    "\n",
    "## Como inicializar uma data?\n",
    "- Com a biblioteca incluída, pode-se criar um objeto da classe [date](#https://docs.python.org/3.12/library/datetime.html?highlight=class%20datetime%20date#datetime.date). Os atributos que podem ser atribuídos ao construtor são todos números inteiros:\n",
    "\n",
    "| Atributos |           Regras                                            |\n",
    "| :-------: | :------------------------:                                  |\n",
    "|    year   | MINYEAR <= year <= MAXYEAR                                  |\n",
    "|    month  |      1 <= month <= 12                                       |\n",
    "|    day    |     1 <= day <= número de dias do mês no ano escolhido      |\n",
    "\n",
    "_Nota: Para entender melhor estude a [documentação](#https://docs.python.org/3.12/library/datetime.html?highlight=class%20datetime%20date#datetime.date)._"
   ]
  },
  {
   "cell_type": "code",
   "execution_count": 2,
   "metadata": {},
   "outputs": [
    {
     "name": "stdout",
     "output_type": "stream",
     "text": [
      "0001-12-25\n",
      "2023-10-05\n"
     ]
    }
   ],
   "source": [
    "#Criando uma variável com o dia do primeiro natal do calendário gregoriano:\n",
    "primeiro_natal = date(day = 25, month = 12, year = 1)\n",
    "\n",
    "#Criando uma variável com o dia de hoje:\n",
    "hoje = date.today()\n",
    "\n",
    "#Mostrando o conteúdo das variáveis criadas:\n",
    "print(primeiro_natal)\n",
    "print(hoje)"
   ]
  },
  {
   "cell_type": "markdown",
   "metadata": {},
   "source": [
    "## Operando Datas\n",
    "É possível descobrir a diferença de tempo entre as datas. Mas é importante ressaltar que esse número é obtido em dias."
   ]
  },
  {
   "cell_type": "code",
   "execution_count": 13,
   "metadata": {},
   "outputs": [
    {
     "name": "stdout",
     "output_type": "stream",
     "text": [
      "738439\n",
      "3 days, 0:00:00\n"
     ]
    }
   ],
   "source": [
    "distancia_entre_dias_1 = date.today() - primeiro_natal\n",
    "\n",
    "print(a.days)\n",
    "\n",
    "\n",
    "primeira_data = date(day=1, month=10, year=2002)\n",
    "segunda_data = date(day=4, month=10, year=2002)\n",
    "\n",
    "distancia_entre_dias_2 = segunda_data - primeira_data\n",
    "\n",
    "print(distancia_entre_dias_2)\n"
   ]
  },
  {
   "cell_type": "markdown",
   "metadata": {},
   "source": [
    "Para descobrir outras medidas relacionadas ao número de dias obtido, basta realizar as devidas conversões:"
   ]
  },
  {
   "cell_type": "code",
   "execution_count": 18,
   "metadata": {},
   "outputs": [
    {
     "name": "stdout",
     "output_type": "stream",
     "text": [
      "72\n",
      "4320\n",
      "259200\n"
     ]
    }
   ],
   "source": [
    "# Convertendo:\n",
    "print(distancia_entre_dias_2.days * 24) # dias para horas\n",
    "print(distancia_entre_dias_2.days * 24 * 60) # dias para minutos\n",
    "print(distancia_entre_dias_2.days * 24 * 60 * 60) # dias para segundos\n"
   ]
  }
 ],
 "metadata": {
  "kernelspec": {
   "display_name": "Python 3",
   "language": "python",
   "name": "python3"
  },
  "language_info": {
   "codemirror_mode": {
    "name": "ipython",
    "version": 3
   },
   "file_extension": ".py",
   "mimetype": "text/x-python",
   "name": "python",
   "nbconvert_exporter": "python",
   "pygments_lexer": "ipython3",
   "version": "3.9.2"
  },
  "orig_nbformat": 4
 },
 "nbformat": 4,
 "nbformat_minor": 2
}
