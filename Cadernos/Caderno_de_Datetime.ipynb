{
 "cells": [
  {
   "cell_type": "code",
   "execution_count": null,
   "metadata": {},
   "outputs": [],
   "source": [
    "\n",
    "#Célula 1:\n",
    "from datetime import date"
   ]
  },
  {
   "cell_type": "markdown",
   "metadata": {},
   "source": [
    "# Criando datas Com Datetime\n",
    "- Execute a célula 1 para importar a biblioteca necessária.\n",
    "- Datetime é uma função nativa do Python. Qualquer versão da linguagem superior à 2.7 tem essa biblioteca. Portanto provavelmente instalá-la não será uma preocupação.\n",
    "\n",
    "## Como inicializar uma data?\n",
    "- Com a biblioteca incluída, pode-se criar um objeto da classe date, confira o exemplo abaixo:"
   ]
  },
  {
   "cell_type": "code",
   "execution_count": 2,
   "metadata": {},
   "outputs": [
    {
     "name": "stdout",
     "output_type": "stream",
     "text": [
      "0001-12-25\n",
      "2023-10-05\n"
     ]
    }
   ],
   "source": [
    "#Criando uma variável com o dia do primeiro natal do calendário gregoriano:\n",
    "primeiro_natal = date(day = 25, month = 12, year = 1)\n",
    "\n",
    "#Criando uma variável com o dia de hoje:\n",
    "hoje = date.today()\n",
    "\n",
    "#Mostrando o conteúdo das variáveis criadas:\n",
    "print(primeiro_natal)\n",
    "print(hoje)"
   ]
  }
 ],
 "metadata": {
  "kernelspec": {
   "display_name": "Python 3",
   "language": "python",
   "name": "python3"
  },
  "language_info": {
   "codemirror_mode": {
    "name": "ipython",
    "version": 3
   },
   "file_extension": ".py",
   "mimetype": "text/x-python",
   "name": "python",
   "nbconvert_exporter": "python",
   "pygments_lexer": "ipython3",
   "version": "3.9.2"
  },
  "orig_nbformat": 4
 },
 "nbformat": 4,
 "nbformat_minor": 2
}
