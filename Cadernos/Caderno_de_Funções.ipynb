{
 "cells": [
  {
   "cell_type": "markdown",
   "metadata": {},
   "source": [
    "# Criando Funções em Python:"
   ]
  },
  {
   "cell_type": "markdown",
   "metadata": {},
   "source": [
    "# O que são funções na programação?\n",
    "- \"Uma função é uma sequência nomeada de instruções que executa uma operação de computação.\"-[Allen B. Downey](#https://penseallen.github.io/PensePython2e/03-funcoes.html)\n",
    "\n",
    "Em python existem várias funções que podemos usar com propósitos diversos. Para compreender os exemplos melhor, execute as células abaixo:"
   ]
  },
  {
   "cell_type": "code",
   "execution_count": 4,
   "metadata": {},
   "outputs": [
    {
     "name": "stdout",
     "output_type": "stream",
     "text": [
      "seu texto\n",
      "também pode ser assim\n",
      "\n",
      "3\n",
      "<class 'str'>\n"
     ]
    }
   ],
   "source": [
    "texto_guardado = \"seu texto\"\n",
    "\n",
    "#Se quero que algo seja mostrado na tela, utilizo a função print(\"texto aqui\"):\n",
    "print(texto_guardado)\n",
    "print(\"também pode ser assim\")\n",
    "\n",
    "#Se quero transformar um texto em um número, utilizo a função str(numero_aqui):\n",
    "b = str(3)\n",
    "\n",
    "#Se quero saber qual o tipo da variável que estou utilizando:\n",
    "c = type('3')\n",
    "\n",
    "print(b)\n",
    "print(c)"
   ]
  },
  {
   "cell_type": "markdown",
   "metadata": {},
   "source": [
    "### Declarando sua primeira função:\n",
    "As funções da célula utilizada acima pertencem à linguagem de programação na qual os códigos foram escritos, ou seja, Python 3. Quando uma função necessária ainda não existe na linguagem, pode-se buscar uma biblioteca que tenha essa função, ou criá-la do zero.Veja como se define uma função no código abaixo:"
   ]
  },
  {
   "cell_type": "code",
   "execution_count": 5,
   "metadata": {},
   "outputs": [
    {
     "name": "stdout",
     "output_type": "stream",
     "text": [
      "Olá!Olá!Olá!\n"
     ]
    }
   ],
   "source": [
    "def nome(argumento_ou_parametro):\n",
    "    print(argumento_ou_parametro * 3)\n",
    "\n",
    "nome(\"Olá!\")"
   ]
  },
  {
   "cell_type": "markdown",
   "metadata": {},
   "source": [
    "📌 Perceba que funções e seus argumentos podem ter qualquer nome que quisermos(coloquei os nomes em nepali para que percebam que independente do nome das funções, o código funciona):"
   ]
  },
  {
   "cell_type": "code",
   "execution_count": 8,
   "metadata": {},
   "outputs": [
    {
     "name": "stdout",
     "output_type": "stream",
     "text": [
      "49\n"
     ]
    }
   ],
   "source": [
    "# वर्ग significa quadrado em nepali(Idioma do Nepal):\n",
    "# प्यारामिटर significa argumento em nepali:\n",
    "\n",
    "def वर्ग( प्यारामिटर ):\n",
    "    print( प्यारामिटर * प्यारामिटर )    # Mostrando o número ao quadrado:\n",
    "\n",
    "वर्ग(7)"
   ]
  },
  {
   "cell_type": "markdown",
   "metadata": {},
   "source": [
    "📌Entenda que o nome de um argumento é diferente do valor passado para ele. No caso acima vimos que o nome do argumento da função `nome()` é  `argumento_ou_parâmetro`, mas veja que vários conteúdos podem ser armazenados ali toda vez que a função é chamada:"
   ]
  },
  {
   "cell_type": "code",
   "execution_count": 22,
   "metadata": {},
   "outputs": [
    {
     "name": "stdout",
     "output_type": "stream",
     "text": [
      "textinho de exemplo \ttextinho de exemplo \ttextinho de exemplo \t\n",
      "\t353\n",
      "\t353\n",
      "\t353\n",
      "\n",
      "12 3312 3312 33\n"
     ]
    }
   ],
   "source": [
    "#Você pode utilizar \\t e \\n para modificar suas strings em python e em outras linguagens:\n",
    "nome('textinho de exemplo \\t') #\\t cria espaços grandes\n",
    "nome('\\t353\\n') #\\n pula linhas\n",
    "nome('12 33')"
   ]
  },
  {
   "cell_type": "markdown",
   "metadata": {},
   "source": [
    "### Chamando funções prontas de bibliotecas:\n",
    "- Para usufruir de bibliotecas na linguagem python é necessário instalá-las. Para instalar uma biblioteca é só pesquisar como realizar o processo com o nome da biblioteca em específico. \n",
    "\n",
    "- Porém algumas bibliotecas são instaladas assim que a linguagem de programação também é instalada em seu computador. Uma das bibliotecas disponíveis assim que se instala o Python é a biblioteca [math](#https://docs.python.org/3/library/math.html) que provê acesso às funções matemáticas definidas na mesma biblioteca em C.\n",
    "\n",
    "- Caso queira entender melhor como e por quê acontece dessa forma, estude sobre como o pip(um gerenciador de pacotes) funciona ou mande sua dúvida no [Telegram](#https://t.me/joaaogg).\n",
    "\n",
    "\n",
    "Entenda mais sobre o uso de [math](#https://docs.python.org/3/library/math.html) abaixo:"
   ]
  },
  {
   "cell_type": "code",
   "execution_count": 26,
   "metadata": {},
   "outputs": [
    {
     "name": "stdout",
     "output_type": "stream",
     "text": [
      "25.0\n",
      "8.0\n",
      "1.0\n",
      "7.0\n",
      "144.0\n"
     ]
    }
   ],
   "source": [
    "#Se já instalada, basta chamá-la para o código:\n",
    "import math\n",
    "\n",
    "#Ao utilizar funções de math é necessário nos referirmos à ela:\n",
    "print(math.pow(5,2))\n",
    "print(math.pow(2,3))\n",
    "print(math.pow(4,0))    # Observe que pow calcula a exponenciação dado um número e um expoente\n",
    "print(math.pow(7,1))\n",
    "print(math.pow(12,2))"
   ]
  },
  {
   "cell_type": "markdown",
   "metadata": {},
   "source": [
    "📌 A biblioteca math também pode ser chamada de duas outras formas. Isso nos permite trabalhar com esta de diversas formas, para entender melhor veja as 2 células abaixo:"
   ]
  },
  {
   "cell_type": "code",
   "execution_count": 27,
   "metadata": {},
   "outputs": [
    {
     "name": "stdout",
     "output_type": "stream",
     "text": [
      "3.141592653589793\n",
      "49.0\n"
     ]
    }
   ],
   "source": [
    "#Chamando a biblioteca e trocando seu nome para matematica:\n",
    "import math as matematica\n",
    "\n",
    "print(matematica.pi)\n",
    "print(matematica.pow(7,2))"
   ]
  },
  {
   "cell_type": "code",
   "execution_count": 60,
   "metadata": {},
   "outputs": [
    {
     "name": "stdout",
     "output_type": "stream",
     "text": [
      "1.0\n"
     ]
    }
   ],
   "source": [
    "#Chamando apenas a função sin e trocando seu nome para funcao_seno\n",
    "from math import pi as PIZAo\n",
    "from math import sin as funcao_seno\n",
    "\n",
    "print( funcao_seno( (matematica.pi)/2 ) )\n"
   ]
  },
  {
   "cell_type": "markdown",
   "metadata": {},
   "source": [
    "### Entendendo escopo de funções:\n",
    "🚧...🚧"
   ]
  }
 ],
 "metadata": {
  "kernelspec": {
   "display_name": "Python 3",
   "language": "python",
   "name": "python3"
  },
  "language_info": {
   "codemirror_mode": {
    "name": "ipython",
    "version": 3
   },
   "file_extension": ".py",
   "mimetype": "text/x-python",
   "name": "python",
   "nbconvert_exporter": "python",
   "pygments_lexer": "ipython3",
   "version": "3.9.2"
  },
  "orig_nbformat": 4
 },
 "nbformat": 4,
 "nbformat_minor": 2
}
